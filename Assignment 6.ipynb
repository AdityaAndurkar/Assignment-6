{
 "cells": [
  {
   "cell_type": "code",
   "execution_count": 3,
   "metadata": {},
   "outputs": [
    {
     "name": "stdout",
     "output_type": "stream",
     "text": [
      "LIST 1 : [1, 2, 3, 4, 5, 7, 8]\n",
      "LIST 2 : ['a', 'b', 'c', 'd', 'e', 'f', 'g']\n",
      "Resultant dictionary is : {1: 'a', 2: 'b', 3: 'c', 4: 'd', 5: 'e', 7: 'f', 8: 'g'}\n"
     ]
    }
   ],
   "source": [
    "# Convert to a dictionary in one line code using list comprehension (without using zip method)\n",
    "\n",
    "List1 = [1,2,3,4,5,7,8]\n",
    "List2 = ['a', 'b', 'c', 'd', 'e','f','g'] \n",
    "\n",
    "print (\"LIST 1 : \" + str(List1))\n",
    "print (\"LIST 2 : \" + str(List2))\n",
    "\n",
    "res = {List1[i]: List2[i] for i in range(len(List1))}\n",
    "\n",
    "print (\"Resultant dictionary is : \" + str(res)) "
   ]
  }
 ],
 "metadata": {
  "kernelspec": {
   "display_name": "Python 3",
   "language": "python",
   "name": "python3"
  },
  "language_info": {
   "codemirror_mode": {
    "name": "ipython",
    "version": 3
   },
   "file_extension": ".py",
   "mimetype": "text/x-python",
   "name": "python",
   "nbconvert_exporter": "python",
   "pygments_lexer": "ipython3",
   "version": "3.7.6"
  }
 },
 "nbformat": 4,
 "nbformat_minor": 4
}
